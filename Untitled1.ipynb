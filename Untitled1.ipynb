{
  "nbformat": 4,
  "nbformat_minor": 0,
  "metadata": {
    "colab": {
      "provenance": [],
      "toc_visible": true,
      "include_colab_link": true
    },
    "kernelspec": {
      "name": "python3",
      "display_name": "Python 3"
    },
    "language_info": {
      "name": "python"
    }
  },
  "cells": [
    {
      "cell_type": "markdown",
      "metadata": {
        "id": "view-in-github",
        "colab_type": "text"
      },
      "source": [
        "<a href=\"https://colab.research.google.com/github/montleee/ML_best/blob/montle-branch/Untitled1.ipynb\" target=\"_parent\"><img src=\"https://colab.research.google.com/assets/colab-badge.svg\" alt=\"Open In Colab\"/></a>"
      ]
    },
    {
      "cell_type": "markdown",
      "source": [
        "# Новый раздел"
      ],
      "metadata": {
        "id": "MU-982C27Jt4"
      }
    },
    {
      "cell_type": "markdown",
      "source": [
        "# Новый раздел"
      ],
      "metadata": {
        "id": "ERDf7A9YI6-P"
      }
    },
    {
      "cell_type": "code",
      "source": [
        "ls"
      ],
      "metadata": {
        "id": "TezvF8OPIqXP",
        "colab": {
          "base_uri": "https://localhost:8080/"
        },
        "outputId": "6e518a30-40d1-4496-fca8-7d82dd5a19c8"
      },
      "execution_count": null,
      "outputs": [
        {
          "output_type": "stream",
          "name": "stdout",
          "text": [
            "README.md  Untitled1.ipynb\n"
          ]
        }
      ]
    },
    {
      "cell_type": "markdown",
      "source": [
        "Git commands\n"
      ],
      "metadata": {
        "id": "QSKQ6hajJF-6"
      }
    },
    {
      "cell_type": "code",
      "source": [
        "cd ML_best/"
      ],
      "metadata": {
        "colab": {
          "base_uri": "https://localhost:8080/"
        },
        "id": "vJ9p9FveMDWu",
        "outputId": "66316406-c11d-47b7-9bf4-7c1d6752bab3"
      },
      "execution_count": null,
      "outputs": [
        {
          "output_type": "stream",
          "name": "stdout",
          "text": [
            "[Errno 2] No such file or directory: 'ML_best/'\n",
            "/content/ML_best\n"
          ]
        }
      ]
    },
    {
      "cell_type": "code",
      "source": [
        "!git status"
      ],
      "metadata": {
        "colab": {
          "base_uri": "https://localhost:8080/"
        },
        "id": "ORTneBs4Etps",
        "outputId": "6049e3ff-bad7-40bb-ac81-d8167d2b9b0f"
      },
      "execution_count": null,
      "outputs": [
        {
          "output_type": "stream",
          "name": "stdout",
          "text": [
            "On branch merder-branch\n",
            "Your branch is up to date with 'origin/merder-branch'.\n",
            "\n",
            "nothing to commit, working tree clean\n"
          ]
        }
      ]
    },
    {
      "cell_type": "code",
      "source": [
        "!git checkout  merder-branch"
      ],
      "metadata": {
        "id": "X8JdMyPlFkBg",
        "colab": {
          "base_uri": "https://localhost:8080/"
        },
        "outputId": "984dc0a4-d2da-4750-ebe9-cd76ece85120"
      },
      "execution_count": null,
      "outputs": [
        {
          "output_type": "stream",
          "name": "stdout",
          "text": [
            "Branch 'merder-branch' set up to track remote branch 'merder-branch' from 'origin'.\n",
            "Switched to a new branch 'merder-branch'\n"
          ]
        }
      ]
    },
    {
      "cell_type": "code",
      "source": [
        "!git add ."
      ],
      "metadata": {
        "id": "FIc9qpWNM6Vf"
      },
      "execution_count": null,
      "outputs": []
    },
    {
      "cell_type": "code",
      "source": [
        "!git commit  \".\""
      ],
      "metadata": {
        "colab": {
          "base_uri": "https://localhost:8080/"
        },
        "id": "fob3UMHeM99-",
        "outputId": "e392ebfb-3d65-4214-d972-a7c94f27c0d7"
      },
      "execution_count": null,
      "outputs": [
        {
          "output_type": "stream",
          "name": "stdout",
          "text": [
            "On branch merder-branch\n",
            "Your branch is up to date with 'origin/merder-branch'.\n",
            "\n",
            "nothing to commit, working tree clean\n"
          ]
        }
      ]
    },
    {
      "cell_type": "code",
      "source": [
        "!git push\n"
      ],
      "metadata": {
        "colab": {
          "base_uri": "https://localhost:8080/"
        },
        "id": "ogRUQMV-NosY",
        "outputId": "d18b55fd-a0f2-40e2-e4aa-6fc392a1dfda"
      },
      "execution_count": null,
      "outputs": [
        {
          "output_type": "stream",
          "name": "stdout",
          "text": [
            "remote: Permission to montleee/ML_best.git denied to montleee.\n",
            "fatal: unable to access 'https://github.com/montleee/ML_best.git/': The requested URL returned error: 403\n"
          ]
        }
      ]
    },
    {
      "cell_type": "code",
      "source": [
        "  !git config --global user.email \"zimigkorsi99@gmail.com\"\n",
        "  !git config --global user.name \"merdernoty\""
      ],
      "metadata": {
        "id": "8TxbRT8rNMWA"
      },
      "execution_count": null,
      "outputs": []
    }
  ]
}